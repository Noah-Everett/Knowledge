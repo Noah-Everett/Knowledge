{
 "cells": [
  {
   "cell_type": "markdown",
   "id": "9bd7df49",
   "metadata": {},
   "source": [
    "---\n",
    "# Cross-Category Cluster Pairs\n",
    "---\n",
    "Cluster per category and find closest cross-category cluster pairs."
   ]
  },
  {
   "cell_type": "code",
   "execution_count": 1,
   "id": "f4ab1972",
   "metadata": {},
   "outputs": [],
   "source": [
    "import numpy as np\n",
    "import cluster_utils as cu\n",
    "npz = np.load('hepex-embeddings.npz', allow_pickle=True)\n",
    "embeddings = npz['embeddings']\n",
    "papers = npz['papers'].tolist()"
   ]
  },
  {
   "cell_type": "code",
   "execution_count": 2,
   "id": "e04ccd18",
   "metadata": {},
   "outputs": [
    {
     "ename": "NameError",
     "evalue": "name 'category' is not defined",
     "output_type": "error",
     "traceback": [
      "\u001b[0;31m---------------------------------------------------------------------------\u001b[0m",
      "\u001b[0;31mNameError\u001b[0m                                 Traceback (most recent call last)",
      "Cell \u001b[0;32mIn[2], line 3\u001b[0m\n\u001b[1;32m      1\u001b[0m X \u001b[38;5;241m=\u001b[39m cu\u001b[38;5;241m.\u001b[39mget_embedding_array(embeddings)\n\u001b[1;32m      2\u001b[0m cluster_infos \u001b[38;5;241m=\u001b[39m cu\u001b[38;5;241m.\u001b[39mcluster_per_category(X, papers, max_clusters\u001b[38;5;241m=\u001b[39m\u001b[38;5;241m8\u001b[39m, members_per_cluster\u001b[38;5;241m=\u001b[39m\u001b[38;5;241m12\u001b[39m)\n\u001b[0;32m----> 3\u001b[0m \u001b[38;5;28mprint\u001b[39m(\u001b[38;5;124mf\u001b[39m\u001b[38;5;124m'\u001b[39m\u001b[38;5;124mBuilt \u001b[39m\u001b[38;5;132;01m{\u001b[39;00m\u001b[38;5;28mlen\u001b[39m(cluster_infos)\u001b[38;5;132;01m}\u001b[39;00m\u001b[38;5;124m clusters across: \u001b[39m\u001b[38;5;132;01m{\u001b[39;00m\u001b[38;5;28msorted\u001b[39m({info[category]\u001b[38;5;250m \u001b[39m\u001b[38;5;28;01mfor\u001b[39;00m\u001b[38;5;250m \u001b[39minfo\u001b[38;5;250m \u001b[39m\u001b[38;5;129;01min\u001b[39;00m\u001b[38;5;250m \u001b[39mcluster_infos})\u001b[38;5;132;01m}\u001b[39;00m\u001b[38;5;124m'\u001b[39m)\n\u001b[1;32m      5\u001b[0m cluster_pairs \u001b[38;5;241m=\u001b[39m cu\u001b[38;5;241m.\u001b[39mfind_closest_cross_category_clusters(cluster_infos, top_k\u001b[38;5;241m=\u001b[39m\u001b[38;5;241m2\u001b[39m)\n\u001b[1;32m      6\u001b[0m \u001b[38;5;28;01mif\u001b[39;00m \u001b[38;5;129;01mnot\u001b[39;00m cluster_pairs:\n",
      "Cell \u001b[0;32mIn[2], line 3\u001b[0m, in \u001b[0;36m<setcomp>\u001b[0;34m(.0)\u001b[0m\n\u001b[1;32m      1\u001b[0m X \u001b[38;5;241m=\u001b[39m cu\u001b[38;5;241m.\u001b[39mget_embedding_array(embeddings)\n\u001b[1;32m      2\u001b[0m cluster_infos \u001b[38;5;241m=\u001b[39m cu\u001b[38;5;241m.\u001b[39mcluster_per_category(X, papers, max_clusters\u001b[38;5;241m=\u001b[39m\u001b[38;5;241m8\u001b[39m, members_per_cluster\u001b[38;5;241m=\u001b[39m\u001b[38;5;241m12\u001b[39m)\n\u001b[0;32m----> 3\u001b[0m \u001b[38;5;28mprint\u001b[39m(\u001b[38;5;124mf\u001b[39m\u001b[38;5;124m'\u001b[39m\u001b[38;5;124mBuilt \u001b[39m\u001b[38;5;132;01m{\u001b[39;00m\u001b[38;5;28mlen\u001b[39m(cluster_infos)\u001b[38;5;132;01m}\u001b[39;00m\u001b[38;5;124m clusters across: \u001b[39m\u001b[38;5;132;01m{\u001b[39;00m\u001b[38;5;28msorted\u001b[39m({info[category]\u001b[38;5;250m \u001b[39m\u001b[38;5;28;01mfor\u001b[39;00m\u001b[38;5;250m \u001b[39minfo\u001b[38;5;250m \u001b[39m\u001b[38;5;129;01min\u001b[39;00m\u001b[38;5;250m \u001b[39mcluster_infos})\u001b[38;5;132;01m}\u001b[39;00m\u001b[38;5;124m'\u001b[39m)\n\u001b[1;32m      5\u001b[0m cluster_pairs \u001b[38;5;241m=\u001b[39m cu\u001b[38;5;241m.\u001b[39mfind_closest_cross_category_clusters(cluster_infos, top_k\u001b[38;5;241m=\u001b[39m\u001b[38;5;241m2\u001b[39m)\n\u001b[1;32m      6\u001b[0m \u001b[38;5;28;01mif\u001b[39;00m \u001b[38;5;129;01mnot\u001b[39;00m cluster_pairs:\n",
      "\u001b[0;31mNameError\u001b[0m: name 'category' is not defined"
     ]
    }
   ],
   "source": [
    "X = cu.get_embedding_array(embeddings)\n",
    "cluster_infos = cu.cluster_per_category(X, papers, max_clusters=8, members_per_cluster=12)\n",
    "print(f'Built {len(cluster_infos)} clusters across: {sorted({info[category] for info in cluster_infos})}')\n",
    "\n",
    "cluster_pairs = cu.find_closest_cross_category_clusters(cluster_infos, top_k=2)\n",
    "if not cluster_pairs:\n",
    "    print('No cross-category cluster pairs found.')\n",
    "else:\n",
    "    try:\n",
    "        display(cu.pairs_to_dataframe(cluster_pairs, cluster_infos, papers))\n",
    "    except RuntimeError:\n",
    "        for distance, i, j in cluster_pairs:\n",
    "            ci = cluster_infos[i]; cj = cluster_infos[j]\n",
    "            print(f\n",
    ")\n",
    "            print(f\n",
    ")\n",
    "            print(f\"Representative: [{ci['rep_index']}] {papers[ci['rep_index']]['title']}\")\n",
    "            print(f\"Representative: [{cj['rep_index']}] {papers[cj['rep_index']]['title']}\")"
   ]
  }
 ],
 "metadata": {
  "kernelspec": {
   "display_name": "Python_3_11_5",
   "language": "python",
   "name": "python3"
  },
  "language_info": {
   "codemirror_mode": {
    "name": "ipython",
    "version": 3
   },
   "file_extension": ".py",
   "mimetype": "text/x-python",
   "name": "python",
   "nbconvert_exporter": "python",
   "pygments_lexer": "ipython3",
   "version": "3.11.5"
  }
 },
 "nbformat": 4,
 "nbformat_minor": 5
}
