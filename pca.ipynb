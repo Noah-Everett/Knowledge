{
 "cells": [
  {
   "cell_type": "markdown",
   "id": "5fed3d7a",
   "metadata": {},
   "source": [
    "---\n",
    "# PCA Visualization\n",
    "---\n",
    "Loads saved embeddings and plots a 2D PCA colored by category."
   ]
  },
  {
   "cell_type": "code",
   "execution_count": 1,
   "id": "4b847a8a",
   "metadata": {},
   "outputs": [
    {
     "data": {
      "text/plain": [
       "(36294, (36294, 768))"
      ]
     },
     "execution_count": 1,
     "metadata": {},
     "output_type": "execute_result"
    }
   ],
   "source": [
    "# Load npz\n",
    "import numpy as np\n",
    "npz = np.load('hepex-embeddings.npz', allow_pickle=True)\n",
    "embeddings = npz['embeddings']\n",
    "papers = npz['papers'].tolist()\n",
    "success = npz['success']\n",
    "len(papers), embeddings.shape"
   ]
  },
  {
   "cell_type": "code",
   "execution_count": 6,
   "id": "b9690461",
   "metadata": {},
   "outputs": [
    {
     "ename": "TypeError",
     "evalue": "unhashable type: 'list'",
     "output_type": "error",
     "traceback": [
      "\u001b[0;31m---------------------------------------------------------------------------\u001b[0m",
      "\u001b[0;31mTypeError\u001b[0m                                 Traceback (most recent call last)",
      "Cell \u001b[0;32mIn[6], line 14\u001b[0m\n\u001b[1;32m     11\u001b[0m emb_2d \u001b[38;5;241m=\u001b[39m pca\u001b[38;5;241m.\u001b[39mfit_transform(embs_np)\n\u001b[1;32m     13\u001b[0m cats \u001b[38;5;241m=\u001b[39m [p\u001b[38;5;241m.\u001b[39mget(\u001b[38;5;124m'\u001b[39m\u001b[38;5;124mcategories\u001b[39m\u001b[38;5;124m'\u001b[39m, [\u001b[38;5;124m'\u001b[39m\u001b[38;5;124munknown\u001b[39m\u001b[38;5;124m'\u001b[39m]) \u001b[38;5;28;01mfor\u001b[39;00m p \u001b[38;5;129;01min\u001b[39;00m papers]\n\u001b[0;32m---> 14\u001b[0m unique_cats \u001b[38;5;241m=\u001b[39m \u001b[38;5;28msorted\u001b[39m(\u001b[38;5;28mset\u001b[39m(cats))\n\u001b[1;32m     15\u001b[0m cmap \u001b[38;5;241m=\u001b[39m plt\u001b[38;5;241m.\u001b[39mget_cmap(\u001b[38;5;124m'\u001b[39m\u001b[38;5;124mtab10\u001b[39m\u001b[38;5;124m'\u001b[39m)\n\u001b[1;32m     16\u001b[0m color_map \u001b[38;5;241m=\u001b[39m {cat: cmap(i) \u001b[38;5;28;01mfor\u001b[39;00m i, cat \u001b[38;5;129;01min\u001b[39;00m \u001b[38;5;28menumerate\u001b[39m(unique_cats)}\n",
      "\u001b[0;31mTypeError\u001b[0m: unhashable type: 'list'"
     ]
    }
   ],
   "source": [
    "import numpy as np\n",
    "import matplotlib.pyplot as plt\n",
    "from sklearn.decomposition import PCA\n",
    "import torch\n",
    "\n",
    "embs_np = embeddings.detach().cpu().numpy() if isinstance(embeddings, torch.Tensor) else np.array(embeddings)\n",
    "if embs_np.ndim != 2:\n",
    "    raise ValueError(f'embeddings must be 2D, got {embs_np.shape}')\n",
    "\n",
    "pca = PCA(n_components=2)\n",
    "emb_2d = pca.fit_transform(embs_np)\n",
    "\n",
    "cats = [p.get('categories', ['unknown']) for p in papers]\n",
    "unique_cats = sorted(set(cats))\n",
    "cmap = plt.get_cmap('tab10')\n",
    "color_map = {cat: cmap(i) for i, cat in enumerate(unique_cats)}\n",
    "\n",
    "plt.figure(figsize=(12, 9))\n",
    "for cat in unique_cats:\n",
    "    idxs = [i for i, c in enumerate(cats) if c == cat]\n",
    "    if not idxs: continue\n",
    "    pts = emb_2d[idxs]\n",
    "    plt.scatter(pts[:, 0], pts[:, 1], s=60, alpha=0.9, label=cat, color=color_map[cat])\n",
    "plt.xlabel('PC 1'); plt.ylabel('PC 2')\n",
    "plt.title('Papers embeddings (PCA 2D) by arXiv category')\n",
    "plt.legend(title='Category')\n",
    "plt.grid(True); plt.tight_layout(); plt.show()"
   ]
  },
  {
   "cell_type": "code",
   "execution_count": null,
   "id": "0c204372",
   "metadata": {},
   "outputs": [],
   "source": []
  }
 ],
 "metadata": {
  "kernelspec": {
   "display_name": "Python_3_11_5",
   "language": "python",
   "name": "python3"
  },
  "language_info": {
   "codemirror_mode": {
    "name": "ipython",
    "version": 3
   },
   "file_extension": ".py",
   "mimetype": "text/x-python",
   "name": "python",
   "nbconvert_exporter": "python",
   "pygments_lexer": "ipython3",
   "version": "3.11.5"
  }
 },
 "nbformat": 4,
 "nbformat_minor": 5
}
