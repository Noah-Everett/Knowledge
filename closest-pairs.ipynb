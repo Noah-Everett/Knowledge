{
 "cells": [
  {
   "cell_type": "markdown",
   "id": "e323ca6a",
   "metadata": {},
   "source": [
    "---\n",
    "# Closest Pairs\n",
    "---\n",
    "Find the closest paper pairs in embedding space."
   ]
  },
  {
   "cell_type": "code",
   "execution_count": 1,
   "id": "86b458c3",
   "metadata": {},
   "outputs": [],
   "source": [
    "import numpy as np\n",
    "import cluster_utils as cu\n",
    "npz = np.load('hepex-embeddings.npz', allow_pickle=True)\n",
    "embeddings = npz['embeddings']\n",
    "papers = npz['papers'].tolist()"
   ]
  },
  {
   "cell_type": "code",
   "execution_count": 2,
   "id": "e2f0e44d",
   "metadata": {},
   "outputs": [
    {
     "data": {
      "application/vnd.microsoft.datawrangler.viewer.v0+json": {
       "columns": [
        {
         "name": "index",
         "rawType": "int64",
         "type": "integer"
        },
        {
         "name": "dist",
         "rawType": "float64",
         "type": "float"
        },
        {
         "name": "idx_a",
         "rawType": "int64",
         "type": "integer"
        },
        {
         "name": "cat_a",
         "rawType": "object",
         "type": "unknown"
        },
        {
         "name": "title_a",
         "rawType": "object",
         "type": "string"
        },
        {
         "name": "idx_b",
         "rawType": "int64",
         "type": "integer"
        },
        {
         "name": "cat_b",
         "rawType": "object",
         "type": "unknown"
        },
        {
         "name": "title_b",
         "rawType": "object",
         "type": "string"
        }
       ],
       "ref": "226ecda1-4580-4ee8-9d80-c623c4277958",
       "rows": [
        [
         "0",
         "0.0",
         "4210",
         null,
         "The Final Measurement of Epsilon'/Epsilon from KTeV",
         "4617",
         null,
         "The Final Measurement of Epsilon'/Epsilon from KTeV"
        ],
        [
         "1",
         "0.0",
         "8329",
         null,
         "Search for CP violating charge asymmetry in B^+ -> J/psi K^+ decays",
         "8594",
         null,
         "Search for CP violating charge asymmetry in B^+ -> J/psi K^+ decays"
        ],
        [
         "2",
         "0.0",
         "10742",
         null,
         "The NA62 Liquid Krypton Electromagnetic Calorimeter Level 0 Trigger",
         "19795",
         null,
         "The NA62 Liquid Krypton Electromagnetic Calorimeter Level 0 Trigger"
        ],
        [
         "3",
         "0.0",
         "15051",
         null,
         "Evidence for a bottom baryon resonance Lambda_b* in CDF data",
         "33546",
         null,
         "Evidence for a bottom baryon resonance Lambda_b* in CDF data"
        ],
        [
         "4",
         "0.15132400393486023",
         "23570",
         null,
         "Exclusive $ρ^0$ Meson Photoproduction with a Leading Neutron at HERA",
         "28185",
         null,
         "Exclusive $ρ^0$ Meson Photoproduction with a Leading Neutron at HERA"
        ],
        [
         "5",
         "0.1533505916595459",
         "6199",
         null,
         "Radiation-hard ASICs for optical data transmission in the ATLAS pixel detector",
         "27644",
         null,
         "Radiation-Hard Asics for Optical Data Transmission in the Atlas Pixel Detector"
        ],
        [
         "6",
         "0.4315764307975769",
         "34036",
         null,
         "Observation of B+ --> K1(1270)+ gamma",
         "34087",
         null,
         "Observation of B+ --> K1(1270)+ gamma"
        ],
        [
         "7",
         "0.4759259521961212",
         "24179",
         null,
         "Measurement of the cross-section ratio sigma_{psi(2S)}/sigma_{J/psi(1S)} in deep inelastic exclusive ep scattering at HERA",
         "24216",
         null,
         "Measurement of the cross-section ratio sigma_{psi(2S)}/sigma_{J/psi(1S)} in deep inelastic exclusive ep scattering at HERA"
        ],
        [
         "8",
         "0.6563974618911743",
         "526",
         null,
         "Beauty photoproduction using decays into electrons at HERA",
         "658",
         null,
         "Beauty photoproduction using decays into electrons at HERA"
        ],
        [
         "9",
         "0.8058277368545532",
         "18712",
         null,
         "Search for $B^+ \\to e^+ ν$ and $B^+ \\to μ^+ ν$ decays using hadronic tagging",
         "21467",
         null,
         "Search for $B^+ \\to e^+ ν$ and $B^+ \\to μ^+ ν$ decays using hadronic tagging"
        ]
       ],
       "shape": {
        "columns": 7,
        "rows": 10
       }
      },
      "text/html": [
       "<div>\n",
       "<style scoped>\n",
       "    .dataframe tbody tr th:only-of-type {\n",
       "        vertical-align: middle;\n",
       "    }\n",
       "\n",
       "    .dataframe tbody tr th {\n",
       "        vertical-align: top;\n",
       "    }\n",
       "\n",
       "    .dataframe thead th {\n",
       "        text-align: right;\n",
       "    }\n",
       "</style>\n",
       "<table border=\"1\" class=\"dataframe\">\n",
       "  <thead>\n",
       "    <tr style=\"text-align: right;\">\n",
       "      <th></th>\n",
       "      <th>dist</th>\n",
       "      <th>idx_a</th>\n",
       "      <th>cat_a</th>\n",
       "      <th>title_a</th>\n",
       "      <th>idx_b</th>\n",
       "      <th>cat_b</th>\n",
       "      <th>title_b</th>\n",
       "    </tr>\n",
       "  </thead>\n",
       "  <tbody>\n",
       "    <tr>\n",
       "      <th>0</th>\n",
       "      <td>0.000000</td>\n",
       "      <td>4210</td>\n",
       "      <td>None</td>\n",
       "      <td>The Final Measurement of Epsilon'/Epsilon from...</td>\n",
       "      <td>4617</td>\n",
       "      <td>None</td>\n",
       "      <td>The Final Measurement of Epsilon'/Epsilon from...</td>\n",
       "    </tr>\n",
       "    <tr>\n",
       "      <th>1</th>\n",
       "      <td>0.000000</td>\n",
       "      <td>8329</td>\n",
       "      <td>None</td>\n",
       "      <td>Search for CP violating charge asymmetry in B^...</td>\n",
       "      <td>8594</td>\n",
       "      <td>None</td>\n",
       "      <td>Search for CP violating charge asymmetry in B^...</td>\n",
       "    </tr>\n",
       "    <tr>\n",
       "      <th>2</th>\n",
       "      <td>0.000000</td>\n",
       "      <td>10742</td>\n",
       "      <td>None</td>\n",
       "      <td>The NA62 Liquid Krypton Electromagnetic Calori...</td>\n",
       "      <td>19795</td>\n",
       "      <td>None</td>\n",
       "      <td>The NA62 Liquid Krypton Electromagnetic Calori...</td>\n",
       "    </tr>\n",
       "    <tr>\n",
       "      <th>3</th>\n",
       "      <td>0.000000</td>\n",
       "      <td>15051</td>\n",
       "      <td>None</td>\n",
       "      <td>Evidence for a bottom baryon resonance Lambda_...</td>\n",
       "      <td>33546</td>\n",
       "      <td>None</td>\n",
       "      <td>Evidence for a bottom baryon resonance Lambda_...</td>\n",
       "    </tr>\n",
       "    <tr>\n",
       "      <th>4</th>\n",
       "      <td>0.151324</td>\n",
       "      <td>23570</td>\n",
       "      <td>None</td>\n",
       "      <td>Exclusive $ρ^0$ Meson Photoproduction with a L...</td>\n",
       "      <td>28185</td>\n",
       "      <td>None</td>\n",
       "      <td>Exclusive $ρ^0$ Meson Photoproduction with a L...</td>\n",
       "    </tr>\n",
       "    <tr>\n",
       "      <th>5</th>\n",
       "      <td>0.153351</td>\n",
       "      <td>6199</td>\n",
       "      <td>None</td>\n",
       "      <td>Radiation-hard ASICs for optical data transmis...</td>\n",
       "      <td>27644</td>\n",
       "      <td>None</td>\n",
       "      <td>Radiation-Hard Asics for Optical Data Transmis...</td>\n",
       "    </tr>\n",
       "    <tr>\n",
       "      <th>6</th>\n",
       "      <td>0.431576</td>\n",
       "      <td>34036</td>\n",
       "      <td>None</td>\n",
       "      <td>Observation of B+ --&gt; K1(1270)+ gamma</td>\n",
       "      <td>34087</td>\n",
       "      <td>None</td>\n",
       "      <td>Observation of B+ --&gt; K1(1270)+ gamma</td>\n",
       "    </tr>\n",
       "    <tr>\n",
       "      <th>7</th>\n",
       "      <td>0.475926</td>\n",
       "      <td>24179</td>\n",
       "      <td>None</td>\n",
       "      <td>Measurement of the cross-section ratio sigma_{...</td>\n",
       "      <td>24216</td>\n",
       "      <td>None</td>\n",
       "      <td>Measurement of the cross-section ratio sigma_{...</td>\n",
       "    </tr>\n",
       "    <tr>\n",
       "      <th>8</th>\n",
       "      <td>0.656397</td>\n",
       "      <td>526</td>\n",
       "      <td>None</td>\n",
       "      <td>Beauty photoproduction using decays into elect...</td>\n",
       "      <td>658</td>\n",
       "      <td>None</td>\n",
       "      <td>Beauty photoproduction using decays into elect...</td>\n",
       "    </tr>\n",
       "    <tr>\n",
       "      <th>9</th>\n",
       "      <td>0.805828</td>\n",
       "      <td>18712</td>\n",
       "      <td>None</td>\n",
       "      <td>Search for $B^+ \\to e^+ ν$ and $B^+ \\to μ^+ ν$...</td>\n",
       "      <td>21467</td>\n",
       "      <td>None</td>\n",
       "      <td>Search for $B^+ \\to e^+ ν$ and $B^+ \\to μ^+ ν$...</td>\n",
       "    </tr>\n",
       "  </tbody>\n",
       "</table>\n",
       "</div>"
      ],
      "text/plain": [
       "       dist  idx_a cat_a                                            title_a  \\\n",
       "0  0.000000   4210  None  The Final Measurement of Epsilon'/Epsilon from...   \n",
       "1  0.000000   8329  None  Search for CP violating charge asymmetry in B^...   \n",
       "2  0.000000  10742  None  The NA62 Liquid Krypton Electromagnetic Calori...   \n",
       "3  0.000000  15051  None  Evidence for a bottom baryon resonance Lambda_...   \n",
       "4  0.151324  23570  None  Exclusive $ρ^0$ Meson Photoproduction with a L...   \n",
       "5  0.153351   6199  None  Radiation-hard ASICs for optical data transmis...   \n",
       "6  0.431576  34036  None              Observation of B+ --> K1(1270)+ gamma   \n",
       "7  0.475926  24179  None  Measurement of the cross-section ratio sigma_{...   \n",
       "8  0.656397    526  None  Beauty photoproduction using decays into elect...   \n",
       "9  0.805828  18712  None  Search for $B^+ \\to e^+ ν$ and $B^+ \\to μ^+ ν$...   \n",
       "\n",
       "   idx_b cat_b                                            title_b  \n",
       "0   4617  None  The Final Measurement of Epsilon'/Epsilon from...  \n",
       "1   8594  None  Search for CP violating charge asymmetry in B^...  \n",
       "2  19795  None  The NA62 Liquid Krypton Electromagnetic Calori...  \n",
       "3  33546  None  Evidence for a bottom baryon resonance Lambda_...  \n",
       "4  28185  None  Exclusive $ρ^0$ Meson Photoproduction with a L...  \n",
       "5  27644  None  Radiation-Hard Asics for Optical Data Transmis...  \n",
       "6  34087  None              Observation of B+ --> K1(1270)+ gamma  \n",
       "7  24216  None  Measurement of the cross-section ratio sigma_{...  \n",
       "8    658  None  Beauty photoproduction using decays into elect...  \n",
       "9  21467  None  Search for $B^+ \\to e^+ ν$ and $B^+ \\to μ^+ ν$...  "
      ]
     },
     "metadata": {},
     "output_type": "display_data"
    }
   ],
   "source": [
    "X = cu.get_embedding_array(embeddings)\n",
    "point_pairs = cu.find_closest_point_pairs(X, papers, top_k=10, require_different_category=False)\n",
    "if not point_pairs:\n",
    "    print('No point pairs found.')\n",
    "else:\n",
    "    try:\n",
    "        display(cu.points_pairs_to_dataframe(point_pairs, papers))\n",
    "    except RuntimeError:\n",
    "        for distance, i, j in point_pairs:\n",
    "            print(f'{distance:.4f} :: [{i}] {papers[i][\"category\"]} - {papers[i][\"title\"]}')\n",
    "            print(f'            [{j}] {papers[j][\"category\"]} - {papers[j][\"title\"]}')"
   ]
  }
 ],
 "metadata": {
  "kernelspec": {
   "display_name": "Python_3_11_5",
   "language": "python",
   "name": "python3"
  },
  "language_info": {
   "codemirror_mode": {
    "name": "ipython",
    "version": 3
   },
   "file_extension": ".py",
   "mimetype": "text/x-python",
   "name": "python",
   "nbconvert_exporter": "python",
   "pygments_lexer": "ipython3",
   "version": "3.11.5"
  }
 },
 "nbformat": 4,
 "nbformat_minor": 5
}
