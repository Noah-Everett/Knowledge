{
 "cells": [
  {
   "cell_type": "markdown",
   "id": "f42ed3d0",
   "metadata": {},
   "source": [
    "---\n",
    "\n",
    "# Embedding\n",
    "\n",
    "---"
   ]
  },
  {
   "cell_type": "code",
   "execution_count": 1,
   "id": "13c0dcc2",
   "metadata": {},
   "outputs": [
    {
     "data": {
      "application/vnd.jupyter.widget-view+json": {
       "model_id": "fbce5920b36a473fba798f3f48bf7a46",
       "version_major": 2,
       "version_minor": 0
      },
      "text/plain": [
       "Fetching 4 files:   0%|          | 0/4 [00:00<?, ?it/s]"
      ]
     },
     "metadata": {},
     "output_type": "display_data"
    },
    {
     "name": "stderr",
     "output_type": "stream",
     "text": [
      "There are adapters available but none are activated for the forward pass.\n"
     ]
    },
    {
     "data": {
      "text/plain": [
       "'specter2'"
      ]
     },
     "execution_count": 1,
     "metadata": {},
     "output_type": "execute_result"
    }
   ],
   "source": [
    "from transformers import AutoTokenizer\n",
    "from adapters import AutoAdapterModel\n",
    "\n",
    "# load model and tokenizer\n",
    "tokenizer = AutoTokenizer.from_pretrained('allenai/specter2_base')\n",
    "\n",
    "#load base model\n",
    "model = AutoAdapterModel.from_pretrained('allenai/specter2_base')\n",
    "\n",
    "#load the adapter(s) as per the required task, provide an identifier for the adapter in load_as argument and activate it\n",
    "model.load_adapter(\"allenai/specter2\", source=\"hf\", load_as=\"specter2\", set_active=True)"
   ]
  },
  {
   "cell_type": "code",
   "execution_count": 2,
   "id": "838b416a",
   "metadata": {},
   "outputs": [],
   "source": [
    "import arxiv\n",
    "\n",
    "# categories = ['hep-ph', 'hep-th', 'hep-ex', 'hep-lat', 'econ.EM']\n",
    "categories = ['hep-ex']\n",
    "papers = []\n",
    "client = arxiv.Client()\n",
    "for cat in categories:\n",
    "    query = f\"cat:{cat}\"\n",
    "    search = arxiv.Search(\n",
    "        query=query,\n",
    "        max_results=500,\n",
    "        sort_by=arxiv.SortCriterion.SubmittedDate,\n",
    "        sort_order=arxiv.SortOrder.Descending,\n",
    "    )\n",
    "\n",
    "    # use Client.results to avoid deprecation warning from Search.results()\n",
    "    results = list(client.results(search))\n",
    "    if len(results) == 0:\n",
    "        raise ValueError(f\"No results found for category {cat}\")\n",
    "\n",
    "    for r in results:\n",
    "        papers.append({\n",
    "            \"id\": r.get_short_id(),   # e.g. \"2509.01234\"\n",
    "            \"title\": r.title,\n",
    "            \"abstract\": r.summary,\n",
    "            \"published\": r.published,\n",
    "            \"category\": cat\n",
    "        })"
   ]
  },
  {
   "cell_type": "code",
   "execution_count": 3,
   "id": "f0dc6d1d",
   "metadata": {},
   "outputs": [],
   "source": [
    "for p in papers:\n",
    "    p[\"abstract\"] = p[\"abstract\"].replace(\"\\n\", \" \")\n",
    "\n",
    "# for p in papers:\n",
    "#     print(\"ID:\", p[\"id\"])\n",
    "#     print(\"Title:\", p[\"title\"])\n",
    "#     print(\"Abstract:\", p[\"abstract\"])\n",
    "#     print(\"-\" * 60)"
   ]
  },
  {
   "cell_type": "code",
   "execution_count": 4,
   "id": "05d65740",
   "metadata": {},
   "outputs": [],
   "source": [
    "papers = [{'title': p['title'], 'abstract': p['abstract'], 'category': p.get('category')} for p in papers]\n",
    "success = {\n",
    "    'title': 'The Best Idea: A Definitive Resolution to Everything',\n",
    "    'abstract': 'In this groundbreaking and universally acclaimed work, we present The Best Idea, a unifying framework that transcends disciplinary boundaries, integrating the most successful concepts from physics, biology, mathematics, and art into a single, self-consistent formalism. Through elegant derivations and audacious simplicity, we demonstrate that all previous paradigms are special cases of this one. Our results reveal perfect predictive power across all datasets, including those not yet collected, and achieve reproducibility exceeding theoretical limits. Extensive simulations confirm that The Best Idea optimizes beauty, truth, and impact simultaneously, yielding a Pareto frontier of pure insight. We conclude that this paper itself represents both the method and the result—the convergence point of understanding.'\n",
    "}\n",
    "\n",
    "text_batch = [d['title'] + tokenizer.sep_token + (d.get('abstract') or '') for d in papers]\n",
    "text_batch.append(success['title'] + tokenizer.sep_token + success['abstract'])"
   ]
  },
  {
   "cell_type": "code",
   "execution_count": 5,
   "id": "2c7e104d",
   "metadata": {},
   "outputs": [
    {
     "name": "stdout",
     "output_type": "stream",
     "text": [
      "input_ids: torch.Size([501, 512])\n",
      "attention_mask: torch.Size([501, 512])\n"
     ]
    }
   ],
   "source": [
    "inputs = tokenizer(text_batch, padding=True, truncation=True, return_tensors=\"pt\", return_token_type_ids=False, max_length=512)\n",
    "\n",
    "for key in inputs:\n",
    "    print(f\"{key}: {inputs[key].shape}\")"
   ]
  },
  {
   "cell_type": "code",
   "execution_count": 6,
   "id": "5f249134",
   "metadata": {},
   "outputs": [],
   "source": [
    "import torch\n",
    "\n",
    "model.eval()\n",
    "with torch.no_grad():\n",
    "    output = model(**inputs)\n",
    "    # take the first token in the batch as the embedding and move to CPU, detach from graph\n",
    "    embeddings = output.last_hidden_state[:, 0, :].detach().cpu()\n",
    "\n",
    "try:\n",
    "    embeddings = embeddings.numpy()\n",
    "except Exception:\n",
    "    import numpy as np\n",
    "    embeddings = np.array(embeddings)\n",
    "\n",
    "del output\n",
    "del inputs\n",
    "\n",
    "import gc\n",
    "gc.collect()\n",
    "\n",
    "if torch.cuda.is_available():\n",
    "    torch.cuda.empty_cache()"
   ]
  },
  {
   "cell_type": "code",
   "execution_count": 7,
   "id": "de35fced",
   "metadata": {},
   "outputs": [],
   "source": [
    "# seperate out the success embedding\n",
    "success = embeddings[-1]\n",
    "embeddings = embeddings[:-1]"
   ]
  },
  {
   "cell_type": "markdown",
   "id": "5aa43f6d",
   "metadata": {},
   "source": [
    "---\n",
    "\n",
    "# PCA\n",
    "\n",
    "---"
   ]
  },
  {
   "cell_type": "code",
   "execution_count": 8,
   "id": "9272fc46",
   "metadata": {},
   "outputs": [
    {
     "data": {
      "image/png": "[encoded data removed]",
      "text/plain": [
       "<Figure size 1200x900 with 1 Axes>"
      ]
     },
     "metadata": {},
     "output_type": "display_data"
    },
    {
     "data": {
      "text/plain": [
       "3512"
      ]
     },
     "execution_count": 8,
     "metadata": {},
     "output_type": "execute_result"
    }
   ],
   "source": [
    "import numpy as np\n",
    "import matplotlib.pyplot as plt\n",
    "from sklearn.decomposition import PCA\n",
    "import torch\n",
    "\n",
    "if isinstance(embeddings, torch.Tensor):\n",
    "    embs_np = embeddings.detach().cpu().numpy()\n",
    "else:\n",
    "    embs_np = np.array(embeddings)\n",
    "\n",
    "if embs_np.ndim != 2:\n",
    "    raise ValueError(f\"embeddings must be a 2D array (num_items, dim). Got shape {embs_np.shape}\")\n",
    "\n",
    "pca = PCA(n_components=2)\n",
    "emb_2d = pca.fit_transform(embs_np)\n",
    "\n",
    "# categories aligned with the embeddings order\n",
    "cats = [p.get('category', 'unknown') for p in papers]\n",
    "unique_cats = sorted(set(cats))\n",
    "cmap = plt.get_cmap('tab10')\n",
    "color_map = {cat: cmap(i) for i, cat in enumerate(unique_cats)}\n",
    "\n",
    "plt.figure(figsize=(12, 9))\n",
    "for cat in unique_cats:\n",
    "    idxs = [i for i, c in enumerate(cats) if c == cat]\n",
    "    if not idxs:\n",
    "        continue\n",
    "    pts = emb_2d[idxs]\n",
    "    plt.scatter(pts[:, 0], pts[:, 1], s=60, alpha=0.9, label=cat, color=color_map[cat])\n",
    "\n",
    "plt.xlabel('PC 1')\n",
    "plt.ylabel('PC 2')\n",
    "plt.title('Papers embeddings (PCA 2D) colored by arXiv category')\n",
    "plt.legend(title='Category')\n",
    "plt.grid(True)\n",
    "plt.tight_layout()\n",
    "plt.show()\n",
    "\n",
    "import gc\n",
    "gc.collect()"
   ]
  },
  {
   "cell_type": "markdown",
   "id": "6a698769",
   "metadata": {},
   "source": [
    "---\n",
    "\n",
    "# Closest Pairs\n",
    "\n",
    "---"
   ]
  },
  {
   "cell_type": "code",
   "execution_count": 9,
   "id": "71ee5989",
   "metadata": {},
   "outputs": [
    {
     "data": {
      "application/vnd.microsoft.datawrangler.viewer.v0+json": {
       "columns": [
        {
         "name": "index",
         "rawType": "int64",
         "type": "integer"
        },
        {
         "name": "dist",
         "rawType": "float64",
         "type": "float"
        },
        {
         "name": "idx_a",
         "rawType": "int64",
         "type": "integer"
        },
        {
         "name": "cat_a",
         "rawType": "object",
         "type": "string"
        },
        {
         "name": "title_a",
         "rawType": "object",
         "type": "string"
        },
        {
         "name": "idx_b",
         "rawType": "int64",
         "type": "integer"
        },
        {
         "name": "cat_b",
         "rawType": "object",
         "type": "string"
        },
        {
         "name": "title_b",
         "rawType": "object",
         "type": "string"
        }
       ],
       "ref": "63576d36-a794-45f1-bfc8-3a68369cac13",
       "rows": [
        [
         "0",
         "3.002505302429199",
         "301",
         "hep-ex",
         "Adapting Vision-Language Models for Neutrino Event Classification in High-Energy Physics",
         "439",
         "hep-ex",
         "Fine-Tuning Vision-Language Models for Neutrino Event Analysis in High-Energy Physics Experiments"
        ],
        [
         "1",
         "4.993785858154297",
         "144",
         "hep-ex",
         "First results from LEGEND-200 on the search for neutrinoless double beta decay",
         "455",
         "hep-ex",
         "Results of the LEGEND-200 experiment in the search for neutrinoless double beta decay"
        ],
        [
         "2",
         "5.747250556945801",
         "80",
         "hep-ex",
         "Semileptonic and nonleptonic weak decays of bottom baryons $Ω^{(*)}_{b}$",
         "391",
         "hep-ex",
         "Semileptonic $Ω_{b}^{*-}\\rightarrowΩ_{c}^{*0}\\ \\ell\\ \\barν_{\\ell}$ transition in QCD"
        ],
        [
         "3",
         "5.89260196685791",
         "26",
         "hep-ex",
         "Dark matter direct search result from InDEx run2 at JUSL",
         "394",
         "hep-ex",
         "The Dark Matter Search at Jaduguda Underground Science Laboratory"
        ],
        [
         "4",
         "6.162428379058838",
         "453",
         "hep-ex",
         "Search for a bound state of $Λ_{c}\\barΣ_{c}$ near threshold",
         "477",
         "hep-ex",
         "Measurements of the cross sections of $e^{+}e^{-}\\to Σ_{c}\\barΣ_{c}$ and $Λ_c^{+}\\barΣ_{c}^{-}$ near kinematic thresholds"
        ],
        [
         "5",
         "6.2396464347839355",
         "239",
         "hep-ex",
         "Physics potential of the IceCube Upgrade for atmospheric neutrino oscillations",
         "249",
         "hep-ex",
         "Extreme High-Energy Neutrinos: IceCube vs. KM3NeT"
        ],
        [
         "6",
         "6.318948268890381",
         "213",
         "hep-ex",
         "First Observation of $Λ$ Hyperon Transverse Polarization in $ψ(3686)\\toΛ\\barΛ$",
         "403",
         "hep-ex",
         "Helicity amplitude and branching fraction measurement of $χ_{cJ} \\rightarrow Λ\\barΛ $"
        ],
        [
         "7",
         "6.443845272064209",
         "249",
         "hep-ex",
         "Extreme High-Energy Neutrinos: IceCube vs. KM3NeT",
         "284",
         "hep-ex",
         "Commissioning and Testing of IceAct Telescopes at the IceCube Neutrino Observatory"
        ],
        [
         "8",
         "6.459334373474121",
         "421",
         "hep-ex",
         "Single- and double-heavy Hadronic Molecules",
         "423",
         "hep-ex",
         "Heavy quarkonia and new hadrons with two heavy quarks"
        ],
        [
         "9",
         "6.4830322265625",
         "457",
         "hep-ex",
         "Two-flavored heavy-light mesons' nuclear bound states",
         "459",
         "hep-ex",
         "Two-flavored heavy mesons' nuclear bound states"
        ]
       ],
       "shape": {
        "columns": 7,
        "rows": 10
       }
      },
      "text/html": [
       "<div>\n",
       "<style scoped>\n",
       "    .dataframe tbody tr th:only-of-type {\n",
       "        vertical-align: middle;\n",
       "    }\n",
       "\n",
       "    .dataframe tbody tr th {\n",
       "        vertical-align: top;\n",
       "    }\n",
       "\n",
       "    .dataframe thead th {\n",
       "        text-align: right;\n",
       "    }\n",
       "</style>\n",
       "<table border=\"1\" class=\"dataframe\">\n",
       "  <thead>\n",
       "    <tr style=\"text-align: right;\">\n",
       "      <th></th>\n",
       "      <th>dist</th>\n",
       "      <th>idx_a</th>\n",
       "      <th>cat_a</th>\n",
       "      <th>title_a</th>\n",
       "      <th>idx_b</th>\n",
       "      <th>cat_b</th>\n",
       "      <th>title_b</th>\n",
       "    </tr>\n",
       "  </thead>\n",
       "  <tbody>\n",
       "    <tr>\n",
       "      <th>0</th>\n",
       "      <td>3.002505</td>\n",
       "      <td>301</td>\n",
       "      <td>hep-ex</td>\n",
       "      <td>Adapting Vision-Language Models for Neutrino E...</td>\n",
       "      <td>439</td>\n",
       "      <td>hep-ex</td>\n",
       "      <td>Fine-Tuning Vision-Language Models for Neutrin...</td>\n",
       "    </tr>\n",
       "    <tr>\n",
       "      <th>1</th>\n",
       "      <td>4.993786</td>\n",
       "      <td>144</td>\n",
       "      <td>hep-ex</td>\n",
       "      <td>First results from LEGEND-200 on the search fo...</td>\n",
       "      <td>455</td>\n",
       "      <td>hep-ex</td>\n",
       "      <td>Results of the LEGEND-200 experiment in the se...</td>\n",
       "    </tr>\n",
       "    <tr>\n",
       "      <th>2</th>\n",
       "      <td>5.747251</td>\n",
       "      <td>80</td>\n",
       "      <td>hep-ex</td>\n",
       "      <td>Semileptonic and nonleptonic weak decays of bo...</td>\n",
       "      <td>391</td>\n",
       "      <td>hep-ex</td>\n",
       "      <td>Semileptonic $Ω_{b}^{*-}\\rightarrowΩ_{c}^{*0}\\...</td>\n",
       "    </tr>\n",
       "    <tr>\n",
       "      <th>3</th>\n",
       "      <td>5.892602</td>\n",
       "      <td>26</td>\n",
       "      <td>hep-ex</td>\n",
       "      <td>Dark matter direct search result from InDEx ru...</td>\n",
       "      <td>394</td>\n",
       "      <td>hep-ex</td>\n",
       "      <td>The Dark Matter Search at Jaduguda Underground...</td>\n",
       "    </tr>\n",
       "    <tr>\n",
       "      <th>4</th>\n",
       "      <td>6.162428</td>\n",
       "      <td>453</td>\n",
       "      <td>hep-ex</td>\n",
       "      <td>Search for a bound state of $Λ_{c}\\barΣ_{c}$ n...</td>\n",
       "      <td>477</td>\n",
       "      <td>hep-ex</td>\n",
       "      <td>Measurements of the cross sections of $e^{+}e^...</td>\n",
       "    </tr>\n",
       "    <tr>\n",
       "      <th>5</th>\n",
       "      <td>6.239646</td>\n",
       "      <td>239</td>\n",
       "      <td>hep-ex</td>\n",
       "      <td>Physics potential of the IceCube Upgrade for a...</td>\n",
       "      <td>249</td>\n",
       "      <td>hep-ex</td>\n",
       "      <td>Extreme High-Energy Neutrinos: IceCube vs. KM3NeT</td>\n",
       "    </tr>\n",
       "    <tr>\n",
       "      <th>6</th>\n",
       "      <td>6.318948</td>\n",
       "      <td>213</td>\n",
       "      <td>hep-ex</td>\n",
       "      <td>First Observation of $Λ$ Hyperon Transverse Po...</td>\n",
       "      <td>403</td>\n",
       "      <td>hep-ex</td>\n",
       "      <td>Helicity amplitude and branching fraction meas...</td>\n",
       "    </tr>\n",
       "    <tr>\n",
       "      <th>7</th>\n",
       "      <td>6.443845</td>\n",
       "      <td>249</td>\n",
       "      <td>hep-ex</td>\n",
       "      <td>Extreme High-Energy Neutrinos: IceCube vs. KM3NeT</td>\n",
       "      <td>284</td>\n",
       "      <td>hep-ex</td>\n",
       "      <td>Commissioning and Testing of IceAct Telescopes...</td>\n",
       "    </tr>\n",
       "    <tr>\n",
       "      <th>8</th>\n",
       "      <td>6.459334</td>\n",
       "      <td>421</td>\n",
       "      <td>hep-ex</td>\n",
       "      <td>Single- and double-heavy Hadronic Molecules</td>\n",
       "      <td>423</td>\n",
       "      <td>hep-ex</td>\n",
       "      <td>Heavy quarkonia and new hadrons with two heavy...</td>\n",
       "    </tr>\n",
       "    <tr>\n",
       "      <th>9</th>\n",
       "      <td>6.483032</td>\n",
       "      <td>457</td>\n",
       "      <td>hep-ex</td>\n",
       "      <td>Two-flavored heavy-light mesons' nuclear bound...</td>\n",
       "      <td>459</td>\n",
       "      <td>hep-ex</td>\n",
       "      <td>Two-flavored heavy mesons' nuclear bound states</td>\n",
       "    </tr>\n",
       "  </tbody>\n",
       "</table>\n",
       "</div>"
      ],
      "text/plain": [
       "       dist  idx_a   cat_a                                            title_a  \\\n",
       "0  3.002505    301  hep-ex  Adapting Vision-Language Models for Neutrino E...   \n",
       "1  4.993786    144  hep-ex  First results from LEGEND-200 on the search fo...   \n",
       "2  5.747251     80  hep-ex  Semileptonic and nonleptonic weak decays of bo...   \n",
       "3  5.892602     26  hep-ex  Dark matter direct search result from InDEx ru...   \n",
       "4  6.162428    453  hep-ex  Search for a bound state of $Λ_{c}\\barΣ_{c}$ n...   \n",
       "5  6.239646    239  hep-ex  Physics potential of the IceCube Upgrade for a...   \n",
       "6  6.318948    213  hep-ex  First Observation of $Λ$ Hyperon Transverse Po...   \n",
       "7  6.443845    249  hep-ex  Extreme High-Energy Neutrinos: IceCube vs. KM3NeT   \n",
       "8  6.459334    421  hep-ex        Single- and double-heavy Hadronic Molecules   \n",
       "9  6.483032    457  hep-ex  Two-flavored heavy-light mesons' nuclear bound...   \n",
       "\n",
       "   idx_b   cat_b                                            title_b  \n",
       "0    439  hep-ex  Fine-Tuning Vision-Language Models for Neutrin...  \n",
       "1    455  hep-ex  Results of the LEGEND-200 experiment in the se...  \n",
       "2    391  hep-ex  Semileptonic $Ω_{b}^{*-}\\rightarrowΩ_{c}^{*0}\\...  \n",
       "3    394  hep-ex  The Dark Matter Search at Jaduguda Underground...  \n",
       "4    477  hep-ex  Measurements of the cross sections of $e^{+}e^...  \n",
       "5    249  hep-ex  Extreme High-Energy Neutrinos: IceCube vs. KM3NeT  \n",
       "6    403  hep-ex  Helicity amplitude and branching fraction meas...  \n",
       "7    284  hep-ex  Commissioning and Testing of IceAct Telescopes...  \n",
       "8    423  hep-ex  Heavy quarkonia and new hadrons with two heavy...  \n",
       "9    459  hep-ex    Two-flavored heavy mesons' nuclear bound states  "
      ]
     },
     "metadata": {},
     "output_type": "display_data"
    }
   ],
   "source": [
    "import cluster_utils as cu\n",
    "\n",
    "point_pairs = cu.find_closest_point_pairs(\n",
    "    cu.get_embedding_array(embeddings),\n",
    "    papers,\n",
    "    top_k=10,\n",
    "    require_different_category=False,\n",
    ")\n",
    "\n",
    "if not point_pairs:\n",
    "    print(\"No cross-category point pairs found.\")\n",
    "else:\n",
    "    try:\n",
    "        display(cu.points_pairs_to_dataframe(point_pairs, papers))\n",
    "    except RuntimeError:\n",
    "        for distance, i, j in point_pairs:\n",
    "            print(f\"{distance:.4f} :: [{i}] {papers[i]['category']} - {papers[i]['title']}\")\n",
    "            print(f\"            [{j}] {papers[j]['category']} - {papers[j]['title']}\")\n"
   ]
  },
  {
   "cell_type": "code",
   "execution_count": 10,
   "id": "ea75ab91",
   "metadata": {},
   "outputs": [
    {
     "name": "stdout",
     "output_type": "stream",
     "text": [
      "Built 8 clusters across: ['hep-ex']\n",
      "No cross-category cluster pairs found.\n"
     ]
    }
   ],
   "source": [
    "import cluster_utils as cu\n",
    "\n",
    "X = cu.get_embedding_array(embeddings)\n",
    "cluster_infos = cu.cluster_per_category(X, papers, max_clusters=8, members_per_cluster=12)\n",
    "\n",
    "print(\n",
    "    f\"Built {len(cluster_infos)} clusters across: {sorted({info['category'] for info in cluster_infos})}\"\n",
    ")\n",
    "\n",
    "cluster_pairs = cu.find_closest_cross_category_clusters(cluster_infos, top_k=2)\n",
    "if not cluster_pairs:\n",
    "    print(\"No cross-category cluster pairs found.\")\n",
    "else:\n",
    "    try:\n",
    "        display(cu.pairs_to_dataframe(cluster_pairs, cluster_infos, papers))\n",
    "    except RuntimeError:\n",
    "        for distance, i, j in cluster_pairs:\n",
    "            ci = cluster_infos[i]\n",
    "            cj = cluster_infos[j]\n",
    "            print(f\"\\nDistance {distance:.4f}\")\n",
    "            print(\n",
    "                f\"{ci['category']} cluster {ci['cluster_id']} (size={ci['size']}) <-> \"\n",
    "                f\"{cj['category']} cluster {cj['cluster_id']} (size={cj['size']})\"\n",
    "            )\n",
    "            print(f\"Representative: [{ci['rep_index']}] {papers[ci['rep_index']]['title']}\")\n",
    "            print(f\"Representative: [{cj['rep_index']}] {papers[cj['rep_index']]['title']}\")\n"
   ]
  },
  {
   "cell_type": "markdown",
   "id": "50b76166",
   "metadata": {},
   "source": [
    "# Success Analysis"
   ]
  },
  {
   "cell_type": "code",
   "execution_count": null,
   "id": "9a84023a",
   "metadata": {},
   "outputs": [
    {
     "name": "stdout",
     "output_type": "stream",
     "text": [
      "9.6313 :: [404] hep-ex - The Evolution of Heavy-Ion Physics: A Data-Driven Analysis of Quark Matter Conferences\n",
      "10.2270 :: [61] hep-ex - The top quark in 2025 -- International year of Quantum Science and Technology\n",
      "10.3055 :: [295] hep-ex - Finding Unexpected Non-Helical Tracks\n",
      "10.3973 :: [389] hep-ex - Composite nature of exotic states from data analysis\n",
      "10.4014 :: [312] hep-ex - Particle Collisions & Quantum Entanglement in High-Energy Collisions\n"
     ]
    }
   ],
   "source": [
    "from cluster_utils import get_embedding_array, find_closest_point\n",
    "import numpy as np\n",
    "\n",
    "X = get_embedding_array(embeddings)\n",
    "X_with_success = np.vstack([X, np.asarray(success)])\n",
    "\n",
    "papers_with_success = list(papers) + [{\"category\": None, \"title\": \"__success__\"}]\n",
    "\n",
    "pairs = find_closest_point(X_with_success, papers_with_success, idx=X_with_success.shape[0] - 1, top_k=5, require_different_category=False)\n",
    "for distance, i, j in pairs:\n",
    "    print(f\"{distance:.4f} :: [{j}] {papers[j]['category']} - {papers[j]['title']}\")"
   ]
  },
  {
   "cell_type": "code",
   "execution_count": null,
   "id": "8ac6e9af",
   "metadata": {},
   "outputs": [],
   "source": []
  }
 ],
 "metadata": {
  "kernelspec": {
   "display_name": "Python_3_11_5",
   "language": "python",
   "name": "python3"
  },
  "language_info": {
   "codemirror_mode": {
    "name": "ipython",
    "version": 3
   },
   "file_extension": ".py",
   "mimetype": "text/x-python",
   "name": "python",
   "nbconvert_exporter": "python",
   "pygments_lexer": "ipython3",
   "version": "3.11.5"
  }
 },
 "nbformat": 4,
 "nbformat_minor": 5
}
